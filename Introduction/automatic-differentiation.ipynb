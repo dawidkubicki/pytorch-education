{
 "cells": [
  {
   "cell_type": "markdown",
   "metadata": {},
   "source": [
    "Let's consider the simplest one-layer neural network, with input x, parameters/weights w and b, and soem loss function. "
   ]
  },
  {
   "cell_type": "code",
   "execution_count": 2,
   "metadata": {},
   "outputs": [],
   "source": [
    "import torch"
   ]
  },
  {
   "cell_type": "code",
   "execution_count": 14,
   "metadata": {},
   "outputs": [],
   "source": [
    "x = torch.ones(5) # input tensor\n",
    "y = torch.zeros(3) # expected output\n",
    "w = torch.randn(5, 3, requires_grad=True) # requires grad here, cause we'll be optimizing these parameters\n",
    "b = torch.randn(3, requires_grad=True) # requires grad here, cause we'll be optimizing these parameters\n",
    "z = torch.matmul(x, w)+b\n",
    "loss = torch.nn.functional.binary_cross_entropy_with_logits(z, y)"
   ]
  },
  {
   "cell_type": "code",
   "execution_count": 15,
   "metadata": {},
   "outputs": [
    {
     "name": "stdout",
     "output_type": "stream",
     "text": [
      "Gradient function for z = <AddBackward0 object at 0x7f9e8c9443d0>\n",
      "Gradient function for loss = <BinaryCrossEntropyWithLogitsBackward object at 0x7f9e8c7b1fd0>\n"
     ]
    }
   ],
   "source": [
    "print(f\"Gradient function for z = {z.grad_fn}\")\n",
    "print(f\"Gradient function for loss = {loss.grad_fn}\")"
   ]
  },
  {
   "cell_type": "markdown",
   "metadata": {},
   "source": [
    "### Computing gradients"
   ]
  },
  {
   "cell_type": "code",
   "execution_count": 17,
   "metadata": {},
   "outputs": [
    {
     "name": "stdout",
     "output_type": "stream",
     "text": [
      "tensor([[-0.7537,  0.2388, -0.2960],\n",
      "        [ 0.1549, -1.3275,  1.7987],\n",
      "        [ 0.0607,  1.6378,  2.1302],\n",
      "        [ 0.2651,  0.7695, -0.1092],\n",
      "        [-0.7626,  1.0868,  0.0937]], requires_grad=True)\n",
      "tensor([ 0.7000, -0.1423, -1.3882], requires_grad=True)\n",
      "tensor(1.7443, grad_fn=<BinaryCrossEntropyWithLogitsBackward>)\n",
      "tensor([-0.3356,  2.2630,  2.2292], grad_fn=<AddBackward0>)\n"
     ]
    }
   ],
   "source": [
    "print(w)\n",
    "print(b)\n",
    "print(loss)\n",
    "print(z)"
   ]
  },
  {
   "cell_type": "code",
   "execution_count": 16,
   "metadata": {},
   "outputs": [
    {
     "name": "stdout",
     "output_type": "stream",
     "text": [
      "tensor([[0.1390, 0.3019, 0.3009],\n",
      "        [0.1390, 0.3019, 0.3009],\n",
      "        [0.1390, 0.3019, 0.3009],\n",
      "        [0.1390, 0.3019, 0.3009],\n",
      "        [0.1390, 0.3019, 0.3009]])\n",
      "tensor([0.1390, 0.3019, 0.3009])\n"
     ]
    }
   ],
   "source": [
    "loss.backward()\n",
    "print(w.grad)\n",
    "print(b.grad)"
   ]
  }
 ],
 "metadata": {
  "kernelspec": {
   "display_name": "Python 3",
   "language": "python",
   "name": "python3"
  },
  "language_info": {
   "codemirror_mode": {
    "name": "ipython",
    "version": 3
   },
   "file_extension": ".py",
   "mimetype": "text/x-python",
   "name": "python",
   "nbconvert_exporter": "python",
   "pygments_lexer": "ipython3",
   "version": "3.8.5"
  }
 },
 "nbformat": 4,
 "nbformat_minor": 4
}
