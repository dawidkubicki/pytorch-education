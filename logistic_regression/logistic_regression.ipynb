{
 "cells": [
  {
   "cell_type": "code",
   "execution_count": 1,
   "metadata": {},
   "outputs": [],
   "source": [
    "import torch\n",
    "import torch.nn.functional as F\n",
    "\n",
    "import numpy as np\n",
    "import matplotlib.pyplot as plt\n",
    "import pandas as pd"
   ]
  },
  {
   "cell_type": "code",
   "execution_count": 2,
   "metadata": {},
   "outputs": [],
   "source": [
    "data = np.genfromtxt('toydataset.txt', delimiter='\\t')\n",
    "x = data[:, :2].astype(np.float32)\n",
    "y = data[:, 2].astype(np.int64)"
   ]
  },
  {
   "cell_type": "code",
   "execution_count": 3,
   "metadata": {},
   "outputs": [],
   "source": [
    "np.random.seed(123)\n",
    "idx = np.arange(y.shape[0])\n",
    "np.random.shuffle(idx)\n",
    "X_test, y_test = x[idx[:25]], y[idx[:25]]\n",
    "X_train, y_train = x[idx[25:]], y[idx[25:]]\n",
    "mu, std = np.mean(X_train, axis=0), np.std(X_train, axis=0)\n",
    "X_train, X_test = (X_train - mu) / std, (X_test - mu) / std"
   ]
  },
  {
   "cell_type": "code",
   "execution_count": 4,
   "metadata": {},
   "outputs": [
    {
     "data": {
      "image/png": "[encoded data removed]",
      "text/plain": [
       "<Figure size 504x180 with 2 Axes>"
      ]
     },
     "metadata": {
      "needs_background": "light"
     },
     "output_type": "display_data"
    }
   ],
   "source": [
    "# Plot two subplots\n",
    "\n",
    "fig, ax = plt.subplots(1, 2, figsize=(7, 2.5))\n",
    "\n",
    "ax[0].scatter(X_train[y_train==0, 0], X_train[y_train==0, 1])\n",
    "ax[0].scatter(X_train[y_train==1, 0], X_train[y_train==1, 1])\n",
    "\n",
    "ax[1].scatter(X_test[y_test==0, 0], X_test[y_test==0, 1])\n",
    "ax[1].scatter(X_test[y_test==1, 0], X_test[y_test==1, 1])\n",
    "\n",
    "plt.show()"
   ]
  },
  {
   "cell_type": "code",
   "execution_count": 5,
   "metadata": {},
   "outputs": [],
   "source": [
    "class LogisticRegression(torch.nn.Module):\n",
    "    def __init__(self, num_features):\n",
    "        super().__init__()\n",
    "        self.linear = torch.nn.Linear(num_features, 1)\n",
    "        \n",
    "    def forward(self, X):\n",
    "        logits = self.linear(X)\n",
    "        probas = torch.sigmoid(logits)\n",
    "        return probas"
   ]
  },
  {
   "cell_type": "code",
   "execution_count": 6,
   "metadata": {},
   "outputs": [
    {
     "name": "stdout",
     "output_type": "stream",
     "text": [
      "Running on NVIDIA GeForce RTX 3080\n"
     ]
    }
   ],
   "source": [
    "if torch.cuda.is_available():\n",
    "    device = torch.device(\"cuda:0\")\n",
    "    print(f\"Running on {torch.cuda.get_device_name()}\")\n",
    "else:\n",
    "    device = torch.device(\"cpu\")"
   ]
  },
  {
   "cell_type": "code",
   "execution_count": 7,
   "metadata": {},
   "outputs": [],
   "source": [
    "model = LogisticRegression(num_features=2).to(device)"
   ]
  },
  {
   "cell_type": "code",
   "execution_count": 8,
   "metadata": {},
   "outputs": [
    {
     "name": "stdout",
     "output_type": "stream",
     "text": [
      "Parameter containing:\n",
      "tensor([[0.2790, 0.5923]], device='cuda:0', requires_grad=True)\n",
      "Parameter containing:\n",
      "tensor([0.1894], device='cuda:0', requires_grad=True)\n"
     ]
    }
   ],
   "source": [
    "for param in model.parameters():\n",
    "    print(param)"
   ]
  },
  {
   "cell_type": "code",
   "execution_count": 9,
   "metadata": {},
   "outputs": [],
   "source": [
    "optimizer = torch.optim.SGD(model.parameters(), lr=0.1, momentum=0.9)\n",
    "criterion = torch.nn.CrossEntropyLoss()"
   ]
  },
  {
   "cell_type": "code",
   "execution_count": 11,
   "metadata": {},
   "outputs": [
    {
     "name": "stdout",
     "output_type": "stream",
     "text": [
      "Epoch: 1 Accuracy: 0.9733333587646484  Loss: 30.79836082458496\n",
      "Epoch: 2 Accuracy: 0.9733333587646484  Loss: 5.611514091491699\n",
      "Epoch: 3 Accuracy: 0.9733333587646484  Loss: 3.1050500869750977\n",
      "Epoch: 4 Accuracy: 0.9866666793823242  Loss: 2.4962568283081055\n",
      "Epoch: 5 Accuracy: 0.9866666793823242  Loss: 2.13830304145813\n",
      "Epoch: 6 Accuracy: 0.9866666793823242  Loss: 1.8225390911102295\n",
      "Epoch: 7 Accuracy: 1.0  Loss: 1.5280553102493286\n",
      "Epoch: 8 Accuracy: 1.0  Loss: 1.2645173072814941\n",
      "Epoch: 9 Accuracy: 1.0  Loss: 1.0431692600250244\n",
      "Epoch: 10 Accuracy: 1.0  Loss: 0.8751689195632935\n",
      "Epoch: 11 Accuracy: 1.0  Loss: 0.7521300911903381\n",
      "Epoch: 12 Accuracy: 1.0  Loss: 0.6622260808944702\n",
      "Epoch: 13 Accuracy: 1.0  Loss: 0.5980237126350403\n",
      "Epoch: 14 Accuracy: 1.0  Loss: 0.5439622402191162\n",
      "Epoch: 15 Accuracy: 1.0  Loss: 0.4994763135910034\n",
      "Epoch: 16 Accuracy: 1.0  Loss: 0.45763444900512695\n",
      "Epoch: 17 Accuracy: 1.0  Loss: 0.4179539680480957\n",
      "Epoch: 18 Accuracy: 1.0  Loss: 0.37993207573890686\n",
      "Epoch: 19 Accuracy: 1.0  Loss: 0.34470605850219727\n",
      "Epoch: 20 Accuracy: 1.0  Loss: 0.3132442235946655\n",
      "Epoch: 21 Accuracy: 1.0  Loss: 0.28435176610946655\n",
      "Epoch: 22 Accuracy: 1.0  Loss: 0.2588651478290558\n",
      "Epoch: 23 Accuracy: 1.0  Loss: 0.23657628893852234\n",
      "Epoch: 24 Accuracy: 1.0  Loss: 0.21800309419631958\n",
      "Epoch: 25 Accuracy: 1.0  Loss: 0.2022678554058075\n",
      "Epoch: 26 Accuracy: 1.0  Loss: 0.18978437781333923\n",
      "Epoch: 27 Accuracy: 1.0  Loss: 0.17867638170719147\n",
      "Epoch: 28 Accuracy: 1.0  Loss: 0.16945300996303558\n",
      "Epoch: 29 Accuracy: 1.0  Loss: 0.16221636533737183\n",
      "Epoch: 30 Accuracy: 1.0  Loss: 0.15606114268302917\n",
      "Weights: Parameter containing:\n",
      "tensor([[24.4396, 15.7876]], device='cuda:0', requires_grad=True)\n",
      "Bias: Parameter containing:\n",
      "tensor([-5.5789], device='cuda:0', requires_grad=True)\n"
     ]
    }
   ],
   "source": [
    "def comp_accuracy(label_var, pred_probas):\n",
    "    pred_labels = torch.where((pred_probas > 0.5), 1, 0).view(-1)\n",
    "    acc = torch.sum(pred_labels == label_var.view(-1)).float() / label_var.size(0)\n",
    "    return acc\n",
    "\n",
    "EPOCHS = 30\n",
    "\n",
    "X_train_tensor = torch.tensor(X_train, dtype=torch.float32, device=device)\n",
    "y_train_tensor = torch.tensor(y_train, dtype=torch.float32, device=device).view(-1,1)\n",
    "\n",
    "for epoch in range(EPOCHS):\n",
    "    pred = model(X_train_tensor)\n",
    "    loss = F.binary_cross_entropy(pred, y_train_tensor, reduction=\"sum\")\n",
    "    \n",
    "    optimizer.zero_grad()\n",
    "    loss.backward()\n",
    "    \n",
    "    optimizer.step()\n",
    "    \n",
    "    pred_probas = model(X_train_tensor)\n",
    "    acc = comp_accuracy(y_train_tensor, pred_probas)\n",
    "    print(f\"Epoch: {epoch+1} Accuracy: {acc}  Loss: {loss}\")\n",
    "    \n",
    "print(f\"Weights: {model.linear.weight}\")\n",
    "print(f\"Bias: {model.linear.bias}\")"
   ]
  },
  {
   "cell_type": "code",
   "execution_count": 12,
   "metadata": {},
   "outputs": [
    {
     "name": "stdout",
     "output_type": "stream",
     "text": [
      "Test set accuracy: 96.00%\n"
     ]
    }
   ],
   "source": [
    "X_test_tensor = torch.tensor(X_test, dtype=torch.float32, device=device)\n",
    "y_test_tensor = torch.tensor(y_test, dtype=torch.float32, device=device)\n",
    "\n",
    "pred_probas = model(X_test_tensor)\n",
    "test_acc = comp_accuracy(y_test_tensor, pred_probas)\n",
    "\n",
    "print('Test set accuracy: %.2f%%' % (test_acc*100))"
   ]
  },
  {
   "cell_type": "code",
   "execution_count": 17,
   "metadata": {},
   "outputs": [
    {
     "data": {
      "image/png": "[encoded data removed]",
      "text/plain": [
       "<Figure size 504x216 with 2 Axes>"
      ]
     },
     "metadata": {
      "needs_background": "light"
     },
     "output_type": "display_data"
    }
   ],
   "source": [
    "w, b = model.linear.weight.detach().cpu().view(-1).numpy(), model.linear.bias.detach().cpu().numpy()\n",
    "\n",
    "x_min = -2\n",
    "y_min = ( (-(w[0] * x_min) - b[0]) \n",
    "          / w[1] )\n",
    "\n",
    "x_max = 2\n",
    "y_max = ( (-(w[0] * x_max) - b[0]) \n",
    "          / w[1] )\n",
    "\n",
    "\n",
    "fig, ax = plt.subplots(1, 2, sharex=True, figsize=(7, 3))\n",
    "ax[0].plot([x_min, x_max], [y_min, y_max])\n",
    "ax[1].plot([x_min, x_max], [y_min, y_max])\n",
    "\n",
    "ax[0].scatter(X_train[y_train==0, 0], X_train[y_train==0, 1], label='class 0', marker='o')\n",
    "ax[0].scatter(X_train[y_train==1, 0], X_train[y_train==1, 1], label='class 1', marker='s')\n",
    "\n",
    "ax[1].scatter(X_test[y_test==0, 0], X_test[y_test==0, 1], label='class 0', marker='o')\n",
    "ax[1].scatter(X_test[y_test==1, 0], X_test[y_test==1, 1], label='class 1', marker='s')\n",
    "\n",
    "ax[1].legend(loc='upper left')\n",
    "plt.show()"
   ]
  }
 ],
 "metadata": {
  "kernelspec": {
   "display_name": "Python 3",
   "language": "python",
   "name": "python3"
  },
  "language_info": {
   "codemirror_mode": {
    "name": "ipython",
    "version": 3
   },
   "file_extension": ".py",
   "mimetype": "text/x-python",
   "name": "python",
   "nbconvert_exporter": "python",
   "pygments_lexer": "ipython3",
   "version": "3.8.5"
  }
 },
 "nbformat": 4,
 "nbformat_minor": 4
}
