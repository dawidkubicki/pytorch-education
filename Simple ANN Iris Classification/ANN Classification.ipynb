{
 "cells": [
  {
   "cell_type": "code",
   "execution_count": 1,
   "id": "2e5e3ce2",
   "metadata": {},
   "outputs": [],
   "source": [
    "import torch\n",
    "import numpy as np\n",
    "import pandas as pd\n",
    "import matplotlib.pyplot as plt"
   ]
  },
  {
   "cell_type": "code",
   "execution_count": 2,
   "id": "f1a52e5e",
   "metadata": {},
   "outputs": [
    {
     "name": "stdout",
     "output_type": "stream",
     "text": [
      "CUDA 11.6\n"
     ]
    }
   ],
   "source": [
    "print(f\"CUDA {torch.version.cuda}\" if torch.cuda.is_available() else \"CPU\")"
   ]
  },
  {
   "cell_type": "markdown",
   "id": "bf54a9ef",
   "metadata": {},
   "source": [
    "## Load Iris Dataset"
   ]
  },
  {
   "cell_type": "code",
   "execution_count": 3,
   "id": "c8381c85",
   "metadata": {},
   "outputs": [],
   "source": [
    "url = \"https://gist.githubusercontent.com/netj/8836201/raw/6f9306ad21398ea43cba4f7d537619d0e07d5ae3/iris.csv\"\n",
    "df = pd.read_csv(url)"
   ]
  },
  {
   "cell_type": "code",
   "execution_count": 4,
   "id": "cec2cb1e",
   "metadata": {
    "scrolled": false
   },
   "outputs": [
    {
     "data": {
      "text/html": [
       "<div>\n",
       "<style scoped>\n",
       "    .dataframe tbody tr th:only-of-type {\n",
       "        vertical-align: middle;\n",
       "    }\n",
       "\n",
       "    .dataframe tbody tr th {\n",
       "        vertical-align: top;\n",
       "    }\n",
       "\n",
       "    .dataframe thead th {\n",
       "        text-align: right;\n",
       "    }\n",
       "</style>\n",
       "<table border=\"1\" class=\"dataframe\">\n",
       "  <thead>\n",
       "    <tr style=\"text-align: right;\">\n",
       "      <th></th>\n",
       "      <th>sepal.length</th>\n",
       "      <th>sepal.width</th>\n",
       "      <th>petal.length</th>\n",
       "      <th>petal.width</th>\n",
       "      <th>variety</th>\n",
       "    </tr>\n",
       "  </thead>\n",
       "  <tbody>\n",
       "    <tr>\n",
       "      <th>0</th>\n",
       "      <td>5.1</td>\n",
       "      <td>3.5</td>\n",
       "      <td>1.4</td>\n",
       "      <td>0.2</td>\n",
       "      <td>Setosa</td>\n",
       "    </tr>\n",
       "    <tr>\n",
       "      <th>1</th>\n",
       "      <td>4.9</td>\n",
       "      <td>3.0</td>\n",
       "      <td>1.4</td>\n",
       "      <td>0.2</td>\n",
       "      <td>Setosa</td>\n",
       "    </tr>\n",
       "    <tr>\n",
       "      <th>2</th>\n",
       "      <td>4.7</td>\n",
       "      <td>3.2</td>\n",
       "      <td>1.3</td>\n",
       "      <td>0.2</td>\n",
       "      <td>Setosa</td>\n",
       "    </tr>\n",
       "    <tr>\n",
       "      <th>3</th>\n",
       "      <td>4.6</td>\n",
       "      <td>3.1</td>\n",
       "      <td>1.5</td>\n",
       "      <td>0.2</td>\n",
       "      <td>Setosa</td>\n",
       "    </tr>\n",
       "    <tr>\n",
       "      <th>4</th>\n",
       "      <td>5.0</td>\n",
       "      <td>3.6</td>\n",
       "      <td>1.4</td>\n",
       "      <td>0.2</td>\n",
       "      <td>Setosa</td>\n",
       "    </tr>\n",
       "    <tr>\n",
       "      <th>...</th>\n",
       "      <td>...</td>\n",
       "      <td>...</td>\n",
       "      <td>...</td>\n",
       "      <td>...</td>\n",
       "      <td>...</td>\n",
       "    </tr>\n",
       "    <tr>\n",
       "      <th>145</th>\n",
       "      <td>6.7</td>\n",
       "      <td>3.0</td>\n",
       "      <td>5.2</td>\n",
       "      <td>2.3</td>\n",
       "      <td>Virginica</td>\n",
       "    </tr>\n",
       "    <tr>\n",
       "      <th>146</th>\n",
       "      <td>6.3</td>\n",
       "      <td>2.5</td>\n",
       "      <td>5.0</td>\n",
       "      <td>1.9</td>\n",
       "      <td>Virginica</td>\n",
       "    </tr>\n",
       "    <tr>\n",
       "      <th>147</th>\n",
       "      <td>6.5</td>\n",
       "      <td>3.0</td>\n",
       "      <td>5.2</td>\n",
       "      <td>2.0</td>\n",
       "      <td>Virginica</td>\n",
       "    </tr>\n",
       "    <tr>\n",
       "      <th>148</th>\n",
       "      <td>6.2</td>\n",
       "      <td>3.4</td>\n",
       "      <td>5.4</td>\n",
       "      <td>2.3</td>\n",
       "      <td>Virginica</td>\n",
       "    </tr>\n",
       "    <tr>\n",
       "      <th>149</th>\n",
       "      <td>5.9</td>\n",
       "      <td>3.0</td>\n",
       "      <td>5.1</td>\n",
       "      <td>1.8</td>\n",
       "      <td>Virginica</td>\n",
       "    </tr>\n",
       "  </tbody>\n",
       "</table>\n",
       "<p>150 rows × 5 columns</p>\n",
       "</div>"
      ],
      "text/plain": [
       "     sepal.length  sepal.width  petal.length  petal.width    variety\n",
       "0             5.1          3.5           1.4          0.2     Setosa\n",
       "1             4.9          3.0           1.4          0.2     Setosa\n",
       "2             4.7          3.2           1.3          0.2     Setosa\n",
       "3             4.6          3.1           1.5          0.2     Setosa\n",
       "4             5.0          3.6           1.4          0.2     Setosa\n",
       "..            ...          ...           ...          ...        ...\n",
       "145           6.7          3.0           5.2          2.3  Virginica\n",
       "146           6.3          2.5           5.0          1.9  Virginica\n",
       "147           6.5          3.0           5.2          2.0  Virginica\n",
       "148           6.2          3.4           5.4          2.3  Virginica\n",
       "149           5.9          3.0           5.1          1.8  Virginica\n",
       "\n",
       "[150 rows x 5 columns]"
      ]
     },
     "execution_count": 4,
     "metadata": {},
     "output_type": "execute_result"
    }
   ],
   "source": [
    "df"
   ]
  },
  {
   "cell_type": "code",
   "execution_count": 5,
   "id": "4b752cd3",
   "metadata": {},
   "outputs": [],
   "source": [
    "df['variety_nums'] = pd.Categorical(df['variety']).codes"
   ]
  },
  {
   "cell_type": "code",
   "execution_count": 6,
   "id": "12a5c9f7",
   "metadata": {},
   "outputs": [
    {
     "data": {
      "text/plain": [
       "0    50\n",
       "1    50\n",
       "2    50\n",
       "Name: variety_nums, dtype: int64"
      ]
     },
     "execution_count": 6,
     "metadata": {},
     "output_type": "execute_result"
    }
   ],
   "source": [
    "df['variety_nums'].value_counts()"
   ]
  },
  {
   "cell_type": "code",
   "execution_count": 7,
   "id": "ce1b6033",
   "metadata": {},
   "outputs": [
    {
     "data": {
      "text/plain": [
       "Setosa        50\n",
       "Versicolor    50\n",
       "Virginica     50\n",
       "Name: variety, dtype: int64"
      ]
     },
     "execution_count": 7,
     "metadata": {},
     "output_type": "execute_result"
    }
   ],
   "source": [
    "df.variety.value_counts()"
   ]
  },
  {
   "cell_type": "markdown",
   "id": "60115c16",
   "metadata": {},
   "source": [
    "### Load simply"
   ]
  },
  {
   "cell_type": "code",
   "execution_count": 8,
   "id": "1b0ff062",
   "metadata": {},
   "outputs": [],
   "source": [
    "from sklearn import preprocessing"
   ]
  },
  {
   "cell_type": "code",
   "execution_count": 9,
   "id": "b3d67082",
   "metadata": {},
   "outputs": [],
   "source": [
    "features = df.drop(columns=\"variety\").values\n",
    "labels = df['variety_nums'].values"
   ]
  },
  {
   "cell_type": "code",
   "execution_count": 10,
   "id": "ee4c112e",
   "metadata": {},
   "outputs": [],
   "source": [
    "from sklearn.model_selection import train_test_split"
   ]
  },
  {
   "cell_type": "code",
   "execution_count": 11,
   "id": "053d639a",
   "metadata": {},
   "outputs": [],
   "source": [
    "X_train,X_test, y_train, y_test = train_test_split(\n",
    "    features, labels, test_size=0.2, random_state=33)"
   ]
  },
  {
   "cell_type": "markdown",
   "id": "64d182ec",
   "metadata": {},
   "source": [
    "#### Classic assign to pytorch torch"
   ]
  },
  {
   "cell_type": "code",
   "execution_count": 12,
   "id": "8cfcdf2a",
   "metadata": {},
   "outputs": [],
   "source": [
    "X_train = torch.FloatTensor(X_train)\n",
    "X_test = torch.FloatTensor(X_test)\n",
    "y_train = torch.LongTensor(y_train)\n",
    "y_test = torch.LongTensor(y_test)"
   ]
  },
  {
   "cell_type": "code",
   "execution_count": 13,
   "id": "c5f248d5",
   "metadata": {},
   "outputs": [],
   "source": [
    "# y_train = y_train.reshape(-1,1)\n",
    "# y_test = y_test.reshape(-1,1)"
   ]
  },
  {
   "cell_type": "code",
   "execution_count": 14,
   "id": "c8b2cbaa",
   "metadata": {},
   "outputs": [
    {
     "data": {
      "text/plain": [
       "torch.Size([120, 5])"
      ]
     },
     "execution_count": 14,
     "metadata": {},
     "output_type": "execute_result"
    }
   ],
   "source": [
    "X_train.shape"
   ]
  },
  {
   "cell_type": "code",
   "execution_count": 15,
   "id": "824b5744",
   "metadata": {},
   "outputs": [
    {
     "data": {
      "text/plain": [
       "torch.Size([120])"
      ]
     },
     "execution_count": 15,
     "metadata": {},
     "output_type": "execute_result"
    }
   ],
   "source": [
    "y_train.shape"
   ]
  },
  {
   "cell_type": "markdown",
   "id": "715eb3c6",
   "metadata": {},
   "source": [
    "#### Assign with TensorDataset and DataLoader"
   ]
  },
  {
   "cell_type": "code",
   "execution_count": 16,
   "id": "497b0306",
   "metadata": {},
   "outputs": [],
   "source": [
    "from torch.utils.data import TensorDataset, DataLoader"
   ]
  },
  {
   "cell_type": "code",
   "execution_count": 17,
   "id": "cef8e84a",
   "metadata": {},
   "outputs": [],
   "source": [
    "iris = TensorDataset(torch.FloatTensor(features), torch.LongTensor(labels))"
   ]
  },
  {
   "cell_type": "code",
   "execution_count": 18,
   "id": "d00fa72d",
   "metadata": {},
   "outputs": [
    {
     "data": {
      "text/plain": [
       "<torch.utils.data.dataset.TensorDataset at 0x7fd7e58071c0>"
      ]
     },
     "execution_count": 18,
     "metadata": {},
     "output_type": "execute_result"
    }
   ],
   "source": [
    "iris"
   ]
  },
  {
   "cell_type": "code",
   "execution_count": 19,
   "id": "8edb8c0a",
   "metadata": {},
   "outputs": [
    {
     "data": {
      "text/plain": [
       "150"
      ]
     },
     "execution_count": 19,
     "metadata": {},
     "output_type": "execute_result"
    }
   ],
   "source": [
    "len(iris)"
   ]
  },
  {
   "cell_type": "markdown",
   "id": "5d7c1cb3",
   "metadata": {},
   "source": [
    "#### DataLoader helps with wrapping dataset into for instance batches"
   ]
  },
  {
   "cell_type": "code",
   "execution_count": 20,
   "id": "86665867",
   "metadata": {},
   "outputs": [],
   "source": [
    "iris_loader = DataLoader(iris, batch_size=10, shuffle=True)"
   ]
  },
  {
   "cell_type": "code",
   "execution_count": 21,
   "id": "76ff6854",
   "metadata": {},
   "outputs": [
    {
     "name": "stdout",
     "output_type": "stream",
     "text": [
      "0 [tensor([[6.9000, 3.1000, 5.1000, 2.3000, 2.0000],\n",
      "        [5.4000, 3.4000, 1.7000, 0.2000, 0.0000],\n",
      "        [5.7000, 4.4000, 1.5000, 0.4000, 0.0000],\n",
      "        [5.5000, 2.4000, 3.7000, 1.0000, 1.0000],\n",
      "        [5.2000, 3.5000, 1.5000, 0.2000, 0.0000],\n",
      "        [6.4000, 3.2000, 4.5000, 1.5000, 1.0000],\n",
      "        [5.1000, 3.4000, 1.5000, 0.2000, 0.0000],\n",
      "        [5.1000, 3.7000, 1.5000, 0.4000, 0.0000],\n",
      "        [7.3000, 2.9000, 6.3000, 1.8000, 2.0000],\n",
      "        [4.7000, 3.2000, 1.6000, 0.2000, 0.0000]]), tensor([2, 0, 0, 1, 0, 1, 0, 0, 2, 0])]\n",
      "1 [tensor([[5.0000, 3.0000, 1.6000, 0.2000, 0.0000],\n",
      "        [5.4000, 3.0000, 4.5000, 1.5000, 1.0000],\n",
      "        [6.2000, 2.8000, 4.8000, 1.8000, 2.0000],\n",
      "        [5.4000, 3.9000, 1.7000, 0.4000, 0.0000],\n",
      "        [6.6000, 2.9000, 4.6000, 1.3000, 1.0000],\n",
      "        [5.1000, 3.3000, 1.7000, 0.5000, 0.0000],\n",
      "        [5.7000, 2.5000, 5.0000, 2.0000, 2.0000],\n",
      "        [5.9000, 3.2000, 4.8000, 1.8000, 1.0000],\n",
      "        [7.6000, 3.0000, 6.6000, 2.1000, 2.0000],\n",
      "        [4.6000, 3.4000, 1.4000, 0.3000, 0.0000]]), tensor([0, 1, 2, 0, 1, 0, 2, 1, 2, 0])]\n",
      "2 [tensor([[4.4000, 3.0000, 1.3000, 0.2000, 0.0000],\n",
      "        [6.1000, 3.0000, 4.6000, 1.4000, 1.0000],\n",
      "        [5.5000, 4.2000, 1.4000, 0.2000, 0.0000],\n",
      "        [5.4000, 3.7000, 1.5000, 0.2000, 0.0000],\n",
      "        [5.6000, 2.7000, 4.2000, 1.3000, 1.0000],\n",
      "        [4.8000, 3.0000, 1.4000, 0.3000, 0.0000],\n",
      "        [5.0000, 2.0000, 3.5000, 1.0000, 1.0000],\n",
      "        [5.1000, 3.8000, 1.9000, 0.4000, 0.0000],\n",
      "        [6.7000, 3.1000, 4.4000, 1.4000, 1.0000],\n",
      "        [6.7000, 3.1000, 4.7000, 1.5000, 1.0000]]), tensor([0, 1, 0, 0, 1, 0, 1, 0, 1, 1])]\n",
      "3 [tensor([[5.0000, 3.4000, 1.6000, 0.4000, 0.0000],\n",
      "        [6.3000, 3.3000, 4.7000, 1.6000, 1.0000],\n",
      "        [5.7000, 3.0000, 4.2000, 1.2000, 1.0000],\n",
      "        [4.6000, 3.1000, 1.5000, 0.2000, 0.0000],\n",
      "        [4.8000, 3.4000, 1.9000, 0.2000, 0.0000],\n",
      "        [6.4000, 2.7000, 5.3000, 1.9000, 2.0000],\n",
      "        [5.1000, 2.5000, 3.0000, 1.1000, 1.0000],\n",
      "        [6.8000, 2.8000, 4.8000, 1.4000, 1.0000],\n",
      "        [6.5000, 3.0000, 5.8000, 2.2000, 2.0000],\n",
      "        [5.5000, 2.3000, 4.0000, 1.3000, 1.0000]]), tensor([0, 1, 1, 0, 0, 2, 1, 1, 2, 1])]\n",
      "4 [tensor([[6.4000, 2.8000, 5.6000, 2.2000, 2.0000],\n",
      "        [6.5000, 3.2000, 5.1000, 2.0000, 2.0000],\n",
      "        [6.3000, 2.8000, 5.1000, 1.5000, 2.0000],\n",
      "        [5.2000, 2.7000, 3.9000, 1.4000, 1.0000],\n",
      "        [5.6000, 2.5000, 3.9000, 1.1000, 1.0000],\n",
      "        [6.5000, 3.0000, 5.5000, 1.8000, 2.0000],\n",
      "        [5.0000, 3.3000, 1.4000, 0.2000, 0.0000],\n",
      "        [4.9000, 3.1000, 1.5000, 0.1000, 0.0000],\n",
      "        [5.0000, 2.3000, 3.3000, 1.0000, 1.0000],\n",
      "        [7.2000, 3.2000, 6.0000, 1.8000, 2.0000]]), tensor([2, 2, 2, 1, 1, 2, 0, 0, 1, 2])]\n",
      "5 [tensor([[4.9000, 2.4000, 3.3000, 1.0000, 1.0000],\n",
      "        [7.7000, 3.0000, 6.1000, 2.3000, 2.0000],\n",
      "        [5.0000, 3.4000, 1.5000, 0.2000, 0.0000],\n",
      "        [6.4000, 3.1000, 5.5000, 1.8000, 2.0000],\n",
      "        [6.0000, 2.2000, 5.0000, 1.5000, 2.0000],\n",
      "        [7.9000, 3.8000, 6.4000, 2.0000, 2.0000],\n",
      "        [6.4000, 2.8000, 5.6000, 2.1000, 2.0000],\n",
      "        [6.7000, 3.0000, 5.2000, 2.3000, 2.0000],\n",
      "        [5.7000, 2.9000, 4.2000, 1.3000, 1.0000],\n",
      "        [5.7000, 2.8000, 4.5000, 1.3000, 1.0000]]), tensor([1, 2, 0, 2, 2, 2, 2, 2, 1, 1])]\n",
      "6 [tensor([[6.3000, 2.9000, 5.6000, 1.8000, 2.0000],\n",
      "        [6.4000, 2.9000, 4.3000, 1.3000, 1.0000],\n",
      "        [6.3000, 2.3000, 4.4000, 1.3000, 1.0000],\n",
      "        [5.1000, 3.8000, 1.5000, 0.3000, 0.0000],\n",
      "        [6.3000, 2.7000, 4.9000, 1.8000, 2.0000],\n",
      "        [5.9000, 3.0000, 5.1000, 1.8000, 2.0000],\n",
      "        [7.4000, 2.8000, 6.1000, 1.9000, 2.0000],\n",
      "        [6.1000, 2.8000, 4.0000, 1.3000, 1.0000],\n",
      "        [7.0000, 3.2000, 4.7000, 1.4000, 1.0000],\n",
      "        [5.8000, 2.7000, 4.1000, 1.0000, 1.0000]]), tensor([2, 1, 1, 0, 2, 2, 2, 1, 1, 1])]\n",
      "7 [tensor([[6.7000, 3.3000, 5.7000, 2.1000, 2.0000],\n",
      "        [4.4000, 2.9000, 1.4000, 0.2000, 0.0000],\n",
      "        [7.2000, 3.0000, 5.8000, 1.6000, 2.0000],\n",
      "        [5.1000, 3.5000, 1.4000, 0.3000, 0.0000],\n",
      "        [5.3000, 3.7000, 1.5000, 0.2000, 0.0000],\n",
      "        [4.8000, 3.1000, 1.6000, 0.2000, 0.0000],\n",
      "        [4.3000, 3.0000, 1.1000, 0.1000, 0.0000],\n",
      "        [5.2000, 4.1000, 1.5000, 0.1000, 0.0000],\n",
      "        [4.8000, 3.4000, 1.6000, 0.2000, 0.0000],\n",
      "        [5.5000, 2.5000, 4.0000, 1.3000, 1.0000]]), tensor([2, 0, 2, 0, 0, 0, 0, 0, 0, 1])]\n",
      "8 [tensor([[6.5000, 3.0000, 5.2000, 2.0000, 2.0000],\n",
      "        [5.7000, 3.8000, 1.7000, 0.3000, 0.0000],\n",
      "        [6.9000, 3.1000, 5.4000, 2.1000, 2.0000],\n",
      "        [4.9000, 3.0000, 1.4000, 0.2000, 0.0000],\n",
      "        [6.9000, 3.1000, 4.9000, 1.5000, 1.0000],\n",
      "        [5.0000, 3.2000, 1.2000, 0.2000, 0.0000],\n",
      "        [4.9000, 3.6000, 1.4000, 0.1000, 0.0000],\n",
      "        [5.0000, 3.5000, 1.3000, 0.3000, 0.0000],\n",
      "        [6.7000, 3.3000, 5.7000, 2.5000, 2.0000],\n",
      "        [5.4000, 3.9000, 1.3000, 0.4000, 0.0000]]), tensor([2, 0, 2, 0, 1, 0, 0, 0, 2, 0])]\n",
      "9 [tensor([[6.6000, 3.0000, 4.4000, 1.4000, 1.0000],\n",
      "        [5.6000, 2.8000, 4.9000, 2.0000, 2.0000],\n",
      "        [6.3000, 2.5000, 4.9000, 1.5000, 1.0000],\n",
      "        [6.3000, 3.3000, 6.0000, 2.5000, 2.0000],\n",
      "        [6.5000, 2.8000, 4.6000, 1.5000, 1.0000],\n",
      "        [4.6000, 3.2000, 1.4000, 0.2000, 0.0000],\n",
      "        [6.0000, 2.2000, 4.0000, 1.0000, 1.0000],\n",
      "        [5.1000, 3.5000, 1.4000, 0.2000, 0.0000],\n",
      "        [6.1000, 3.0000, 4.9000, 1.8000, 2.0000],\n",
      "        [5.8000, 2.6000, 4.0000, 1.2000, 1.0000]]), tensor([1, 2, 1, 2, 1, 0, 1, 0, 2, 1])]\n",
      "10 [tensor([[6.2000, 3.4000, 5.4000, 2.3000, 2.0000],\n",
      "        [6.7000, 2.5000, 5.8000, 1.8000, 2.0000],\n",
      "        [6.0000, 2.9000, 4.5000, 1.5000, 1.0000],\n",
      "        [5.9000, 3.0000, 4.2000, 1.5000, 1.0000],\n",
      "        [5.7000, 2.8000, 4.1000, 1.3000, 1.0000],\n",
      "        [6.1000, 2.8000, 4.7000, 1.2000, 1.0000],\n",
      "        [5.5000, 2.4000, 3.8000, 1.1000, 1.0000],\n",
      "        [5.7000, 2.6000, 3.5000, 1.0000, 1.0000],\n",
      "        [5.0000, 3.6000, 1.4000, 0.2000, 0.0000],\n",
      "        [7.7000, 2.6000, 6.9000, 2.3000, 2.0000]]), tensor([2, 2, 1, 1, 1, 1, 1, 1, 0, 2])]\n",
      "11 [tensor([[5.4000, 3.4000, 1.5000, 0.4000, 0.0000],\n",
      "        [6.3000, 2.5000, 5.0000, 1.9000, 2.0000],\n",
      "        [5.0000, 3.5000, 1.6000, 0.6000, 0.0000],\n",
      "        [4.8000, 3.0000, 1.4000, 0.1000, 0.0000],\n",
      "        [6.0000, 3.4000, 4.5000, 1.6000, 1.0000],\n",
      "        [5.8000, 2.7000, 3.9000, 1.2000, 1.0000],\n",
      "        [4.4000, 3.2000, 1.3000, 0.2000, 0.0000],\n",
      "        [5.8000, 4.0000, 1.2000, 0.2000, 0.0000],\n",
      "        [4.9000, 3.1000, 1.5000, 0.2000, 0.0000],\n",
      "        [6.3000, 3.4000, 5.6000, 2.4000, 2.0000]]), tensor([0, 2, 0, 0, 1, 1, 0, 0, 0, 2])]\n",
      "12 [tensor([[7.2000, 3.6000, 6.1000, 2.5000, 2.0000],\n",
      "        [5.8000, 2.7000, 5.1000, 1.9000, 2.0000],\n",
      "        [6.8000, 3.0000, 5.5000, 2.1000, 2.0000],\n",
      "        [6.2000, 2.2000, 4.5000, 1.5000, 1.0000],\n",
      "        [6.8000, 3.2000, 5.9000, 2.3000, 2.0000],\n",
      "        [5.6000, 3.0000, 4.5000, 1.5000, 1.0000],\n",
      "        [4.6000, 3.6000, 1.0000, 0.2000, 0.0000],\n",
      "        [5.6000, 3.0000, 4.1000, 1.3000, 1.0000],\n",
      "        [4.5000, 2.3000, 1.3000, 0.3000, 0.0000],\n",
      "        [5.8000, 2.7000, 5.1000, 1.9000, 2.0000]]), tensor([2, 2, 2, 1, 2, 1, 0, 1, 0, 2])]\n",
      "13 [tensor([[7.1000, 3.0000, 5.9000, 2.1000, 2.0000],\n",
      "        [6.7000, 3.0000, 5.0000, 1.7000, 1.0000],\n",
      "        [6.0000, 3.0000, 4.8000, 1.8000, 2.0000],\n",
      "        [4.9000, 2.5000, 4.5000, 1.7000, 2.0000],\n",
      "        [5.5000, 2.6000, 4.4000, 1.2000, 1.0000],\n",
      "        [6.7000, 3.1000, 5.6000, 2.4000, 2.0000],\n",
      "        [6.1000, 2.6000, 5.6000, 1.4000, 2.0000],\n",
      "        [6.4000, 3.2000, 5.3000, 2.3000, 2.0000],\n",
      "        [7.7000, 3.8000, 6.7000, 2.2000, 2.0000],\n",
      "        [5.2000, 3.4000, 1.4000, 0.2000, 0.0000]]), tensor([2, 1, 2, 2, 1, 2, 2, 2, 2, 0])]\n",
      "14 [tensor([[5.5000, 3.5000, 1.3000, 0.2000, 0.0000],\n",
      "        [5.8000, 2.8000, 5.1000, 2.4000, 2.0000],\n",
      "        [6.0000, 2.7000, 5.1000, 1.6000, 1.0000],\n",
      "        [5.6000, 2.9000, 3.6000, 1.3000, 1.0000],\n",
      "        [6.9000, 3.2000, 5.7000, 2.3000, 2.0000],\n",
      "        [4.7000, 3.2000, 1.3000, 0.2000, 0.0000],\n",
      "        [7.7000, 2.8000, 6.7000, 2.0000, 2.0000],\n",
      "        [6.1000, 2.9000, 4.7000, 1.4000, 1.0000],\n",
      "        [6.2000, 2.9000, 4.3000, 1.3000, 1.0000],\n",
      "        [5.1000, 3.8000, 1.6000, 0.2000, 0.0000]]), tensor([0, 2, 1, 1, 2, 0, 2, 1, 1, 0])]\n"
     ]
    }
   ],
   "source": [
    "for i, batch in enumerate(iris_loader):\n",
    "    print(i, batch)"
   ]
  },
  {
   "cell_type": "markdown",
   "id": "1437c303",
   "metadata": {},
   "source": [
    "### Model"
   ]
  },
  {
   "cell_type": "code",
   "execution_count": 22,
   "id": "bc103ab5",
   "metadata": {},
   "outputs": [],
   "source": [
    "import torch.nn as nn\n",
    "import torch.nn.functional as F"
   ]
  },
  {
   "cell_type": "code",
   "execution_count": 23,
   "id": "1331fd3f",
   "metadata": {},
   "outputs": [],
   "source": [
    "class Model(nn.Module):\n",
    "    \n",
    "    def __init__(self, in_features=5, h1=8, h2=9, out_features=3):\n",
    "        super().__init__()\n",
    "        self.fc1 = nn.Linear(in_features, h1)\n",
    "        self.fc2 = nn.Linear(h1, h2)\n",
    "        self.out = nn.Linear(h2, out_features)\n",
    "    \n",
    "    def forward(self, x):\n",
    "        x = F.relu(self.fc1(x))\n",
    "        x = F.relu(self.fc2(x))\n",
    "        x = self.out(x)\n",
    "        \n",
    "        return x"
   ]
  },
  {
   "cell_type": "code",
   "execution_count": 24,
   "id": "20337f07",
   "metadata": {},
   "outputs": [
    {
     "data": {
      "text/plain": [
       "<torch._C.Generator at 0x7fd8cc852670>"
      ]
     },
     "execution_count": 24,
     "metadata": {},
     "output_type": "execute_result"
    }
   ],
   "source": [
    "torch.manual_seed(32)"
   ]
  },
  {
   "cell_type": "code",
   "execution_count": 25,
   "id": "033a7e96",
   "metadata": {},
   "outputs": [],
   "source": [
    "model = Model()"
   ]
  },
  {
   "cell_type": "code",
   "execution_count": 42,
   "id": "fdf68c19",
   "metadata": {},
   "outputs": [],
   "source": [
    "criterion = nn.CrossEntropyLoss()\n",
    "optimizer = torch.optim.Adam(model.parameters(), lr=2e-1)"
   ]
  },
  {
   "cell_type": "code",
   "execution_count": 43,
   "id": "936750fb",
   "metadata": {},
   "outputs": [
    {
     "data": {
      "text/plain": [
       "<bound method Module.parameters of Model(\n",
       "  (fc1): Linear(in_features=5, out_features=8, bias=True)\n",
       "  (fc2): Linear(in_features=8, out_features=9, bias=True)\n",
       "  (out): Linear(in_features=9, out_features=3, bias=True)\n",
       ")>"
      ]
     },
     "execution_count": 43,
     "metadata": {},
     "output_type": "execute_result"
    }
   ],
   "source": [
    "model.parameters"
   ]
  },
  {
   "cell_type": "code",
   "execution_count": 44,
   "id": "623a9034",
   "metadata": {},
   "outputs": [
    {
     "name": "stdout",
     "output_type": "stream",
     "text": [
      "Epoch 1 and loss is: 1.0960696935653687\n",
      "Epoch 11 and loss is: 1.1002004146575928\n",
      "Epoch 21 and loss is: 1.0973327159881592\n",
      "Epoch 31 and loss is: 1.0961402654647827\n",
      "Epoch 41 and loss is: 1.0960692167282104\n",
      "Epoch 51 and loss is: 1.0960712432861328\n",
      "Epoch 61 and loss is: 1.0960673093795776\n",
      "Epoch 71 and loss is: 1.0960689783096313\n",
      "Epoch 81 and loss is: 1.096070408821106\n",
      "Epoch 91 and loss is: 1.0960685014724731\n"
     ]
    }
   ],
   "source": [
    "EPOCHS = 100\n",
    "losses = []\n",
    "\n",
    "for i in range(EPOCHS):\n",
    "    y_pred = model.forward(X_train)\n",
    "    \n",
    "    loss = criterion(y_pred, y_train)\n",
    "    losses.append(loss)\n",
    "    \n",
    "    if i%10==0:\n",
    "        print(f\"Epoch {i+1} and loss is: {loss}\")\n",
    "    optimizer.zero_grad()\n",
    "    loss.backward()\n",
    "    optimizer.step()\n",
    "        \n",
    "        "
   ]
  },
  {
   "cell_type": "code",
   "execution_count": 39,
   "id": "f456c00e",
   "metadata": {},
   "outputs": [],
   "source": [
    "losses_numpy = [val.cpu().detach().numpy().item() for val in losses]"
   ]
  },
  {
   "cell_type": "code",
   "execution_count": 41,
   "id": "29724877",
   "metadata": {},
   "outputs": [
    {
     "data": {
      "text/plain": [
       "Text(0, 0.5, 'Epoch')"
      ]
     },
     "execution_count": 41,
     "metadata": {},
     "output_type": "execute_result"
    },
    {
     "data": {
      "image/png": "[encoded data removed]",
      "text/plain": [
       "<Figure size 640x480 with 1 Axes>"
      ]
     },
     "metadata": {},
     "output_type": "display_data"
    }
   ],
   "source": [
    "plt.plot(range(EPOCHS), losses_numpy)\n",
    "plt.xlabel(\"Loss\")\n",
    "plt.ylabel(\"Epoch\")"
   ]
  }
 ],
 "metadata": {
  "kernelspec": {
   "display_name": "Python 3 (ipykernel)",
   "language": "python",
   "name": "python3"
  },
  "language_info": {
   "codemirror_mode": {
    "name": "ipython",
    "version": 3
   },
   "file_extension": ".py",
   "mimetype": "text/x-python",
   "name": "python",
   "nbconvert_exporter": "python",
   "pygments_lexer": "ipython3",
   "version": "3.8.5"
  }
 },
 "nbformat": 4,
 "nbformat_minor": 5
}
